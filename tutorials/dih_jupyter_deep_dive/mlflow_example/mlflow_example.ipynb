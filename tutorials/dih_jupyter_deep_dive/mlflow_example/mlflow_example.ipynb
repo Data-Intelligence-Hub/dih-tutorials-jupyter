{
 "cells": [
  {
   "cell_type": "markdown",
   "metadata": {},
   "source": [
    "Source: https://www.mlflow.org/docs/latest/tutorials-and-examples/tutorial.html"
   ]
  },
  {
   "cell_type": "markdown",
   "metadata": {},
   "source": [
    "- The MLFlow code is pasted in the `train.py` file.\n",
    "\n"
   ]
  },
  {
   "cell_type": "code",
   "execution_count": 2,
   "metadata": {},
   "outputs": [
    {
     "name": "stdout",
     "output_type": "stream",
     "text": [
      "Elasticnet model (alpha=0.500000, l1_ratio=0.500000):\n",
      "  RMSE: 0.7931640229276851\n",
      "  MAE: 0.6271946374319586\n",
      "  R2: 0.10862644997792614\n"
     ]
    }
   ],
   "source": [
    "!python train.py"
   ]
  },
  {
   "cell_type": "markdown",
   "metadata": {},
   "source": [
    "- The MLflow tracking APIs log information about each training run, like the hyperparameters alpha and l1_ratio, used to train the model and metrics, like the root mean square error, used to evaluate the model. "
   ]
  },
  {
   "cell_type": "code",
   "execution_count": 3,
   "metadata": {},
   "outputs": [
    {
     "name": "stdout",
     "output_type": "stream",
     "text": [
      "Elasticnet model (alpha=0.500000, l1_ratio=0.500000):\n",
      "  RMSE: 0.7931640229276851\n",
      "  MAE: 0.6271946374319586\n",
      "  R2: 0.10862644997792614\n"
     ]
    }
   ],
   "source": [
    "!python train.py"
   ]
  },
  {
   "cell_type": "markdown",
   "metadata": {},
   "source": [
    "- Open the MLFlow UI from the Launcher."
   ]
  },
  {
   "cell_type": "markdown",
   "metadata": {},
   "source": [
    "MLFlow UI reads the folder named `mlruns` from the `$HOME` (`~`) folder. Therefore, let's create a symbolic link to place our mlruns at the home folder."
   ]
  },
  {
   "cell_type": "code",
   "execution_count": 6,
   "metadata": {},
   "outputs": [
    {
     "name": "stdout",
     "output_type": "stream",
     "text": [
      "/home/jovyan/ProfOttoClass/UseCase06_Jupyter_Notebook_DeepDive/mlflow_example\n"
     ]
    }
   ],
   "source": [
    "!echo $(pwd)"
   ]
  },
  {
   "cell_type": "code",
   "execution_count": 7,
   "metadata": {},
   "outputs": [],
   "source": [
    "!rm ~/mlruns\n",
    "!ln -s $(pwd)/mlruns ~/mlruns"
   ]
  },
  {
   "cell_type": "markdown",
   "metadata": {},
   "source": [
    "Check if the symbolic link is rightly created."
   ]
  },
  {
   "cell_type": "code",
   "execution_count": 8,
   "metadata": {},
   "outputs": [
    {
     "name": "stdout",
     "output_type": "stream",
     "text": [
      "lrwxrwxrwx 1 1000 1000       84 May 28 05:08 mlruns -> /home/jovyan/ProfOttoClass/UseCase06_Jupyter_Notebook_DeepDive/mlflow_example/mlruns\n"
     ]
    }
   ],
   "source": [
    "!ls -lln ~ | grep lrwx | grep mlruns"
   ]
  },
  {
   "cell_type": "markdown",
   "metadata": {},
   "source": [
    "### Serving the Model"
   ]
  },
  {
   "cell_type": "code",
   "execution_count": 11,
   "metadata": {},
   "outputs": [
    {
     "name": "stdout",
     "output_type": "stream",
     "text": [
      "2020/05/28 05:11:55 INFO mlflow.models.cli: Selected backend for flavor 'python_function'\n",
      "2020/05/28 05:11:55 INFO mlflow.pyfunc.backend: === Running command 'gunicorn --timeout=60 -b 0.0.0.0:1234 -w 1 ${GUNICORN_CMD_ARGS} -- mlflow.pyfunc.scoring_server.wsgi:app'\n",
      "[2020-05-28 05:11:56 +0000] [5918] [INFO] Starting gunicorn 20.0.4\n",
      "[2020-05-28 05:11:56 +0000] [5918] [INFO] Listening at: http://0.0.0.0:1234 (5918)\n",
      "[2020-05-28 05:11:56 +0000] [5918] [INFO] Using worker: sync\n",
      "[2020-05-28 05:11:56 +0000] [5921] [INFO] Booting worker with pid: 5921\n",
      "^C\n",
      "\n",
      "Aborted!\n",
      "[2020-05-28 05:14:05 +0000] [5918] [INFO] Handling signal: int\n",
      "[2020-05-28 05:14:05 +0000] [5921] [INFO] Worker exiting (pid: 5921)\n"
     ]
    }
   ],
   "source": [
    "!mlflow models serve -m ~/jupyter_test_examples/mlflow_example/mlruns/0/7d5e4effad4240e88bb2f2190614f892/artifacts/model -p 1234 -h 0.0.0.0 --no-conda"
   ]
  },
  {
   "cell_type": "code",
   "execution_count": null,
   "metadata": {},
   "outputs": [],
   "source": []
  }
 ],
 "metadata": {
  "kernelspec": {
   "display_name": "Python 3",
   "language": "python",
   "name": "python3"
  },
  "language_info": {
   "codemirror_mode": {
    "name": "ipython",
    "version": 3
   },
   "file_extension": ".py",
   "mimetype": "text/x-python",
   "name": "python",
   "nbconvert_exporter": "python",
   "pygments_lexer": "ipython3",
   "version": "3.6.7"
  },
  "toc": {
   "base_numbering": 1,
   "nav_menu": {},
   "number_sections": true,
   "sideBar": true,
   "skip_h1_title": false,
   "title_cell": "Table of Contents",
   "title_sidebar": "Contents",
   "toc_cell": false,
   "toc_position": {},
   "toc_section_display": true,
   "toc_window_display": false
  }
 },
 "nbformat": 4,
 "nbformat_minor": 4
}
