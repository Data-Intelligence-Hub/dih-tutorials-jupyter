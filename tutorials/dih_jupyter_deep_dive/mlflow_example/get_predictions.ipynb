{
 "cells": [
  {
   "cell_type": "code",
   "execution_count": 5,
   "metadata": {},
   "outputs": [
    {
     "name": "stdout",
     "output_type": "stream",
     "text": [
      "b'[5.120775719594933]'\n"
     ]
    }
   ],
   "source": [
    "import requests\n",
    "\n",
    "url = \"your url\"\n",
    "\n",
    "payload = \"{\\\"columns\\\":[\\\"alcohol\\\", \\\"chlorides\\\", \\\"citric acid\\\", \\\"density\\\", \\\"fixed acidity\\\", \\\"free sulfur dioxide\\\", \\\"pH\\\", \\\"residual sugar\\\", \\\"sulphates\\\", \\\"total sulfur dioxide\\\", \\\"volatile acidity\\\"],\\\"data\\\":[[12.8, 0.029, 0.48, 0.98, 6.2, 29, 3.33, 1.2, 0.39, 75, 0.66]]}\"\n",
    "headers = {\n",
    "  'Content-Type': 'application/json',\n",
    "  'format': 'pandas-split'\n",
    "}\n",
    "\n",
    "response = requests.request(\"POST\", url, headers=headers, data = payload)\n",
    "\n",
    "print(response.text.encode('utf8'))"
   ]
  },
  {
   "cell_type": "code",
   "execution_count": null,
   "metadata": {},
   "outputs": [],
   "source": []
  }
 ],
 "metadata": {
  "kernelspec": {
   "display_name": "Python 3",
   "language": "python",
   "name": "python3"
  },
  "language_info": {
   "codemirror_mode": {
    "name": "ipython",
    "version": 3
   },
   "file_extension": ".py",
   "mimetype": "text/x-python",
   "name": "python",
   "nbconvert_exporter": "python",
   "pygments_lexer": "ipython3",
   "version": "3.6.7"
  }
 },
 "nbformat": 4,
 "nbformat_minor": 4
}
